{
 "cells": [
  {
   "cell_type": "code",
   "execution_count": 2,
   "id": "e0f70843",
   "metadata": {},
   "outputs": [
    {
     "name": "stdout",
     "output_type": "stream",
     "text": [
      "[다나와자동차_리뷰2(150~끝)] 워드 파일 개수: 262개\n"
     ]
    },
    {
     "name": "stderr",
     "output_type": "stream",
     "text": [
      "다나와자동차_리뷰2(150~끝) 워드파일 처리: 100%|█| 262/262 [01:00<00:00,  4.36it/"
     ]
    },
    {
     "name": "stdout",
     "output_type": "stream",
     "text": [
      "[다나와자동차_리뷰2(150~끝)] CSV/엑셀 저장 완료:\n",
      "/Users/minjoong/Desktop/다나와자동차_리뷰2(150~끝)/다나와자동차2_리뷰정리.csv\n",
      "/Users/minjoong/Desktop/다나와자동차_리뷰2(150~끝)/다나와자동차2_리뷰정리.xlsx\n"
     ]
    },
    {
     "name": "stderr",
     "output_type": "stream",
     "text": [
      "\n"
     ]
    }
   ],
   "source": [
    "import os\n",
    "import glob\n",
    "from docx import Document\n",
    "import kss\n",
    "import pandas as pd\n",
    "from tqdm import tqdm\n",
    "\n",
    "# 키워드 설정\n",
    "CD_KEYWORDS = ['클러스터', '디스플레이', '계기판']\n",
    "\n",
    "# 분석 폴더 리스트\n",
    "TARGET_DIRS = [\n",
    "    \"/Users/minjoong/Desktop/다나와자동차_리뷰2(150~끝)\"\n",
    "]\n",
    "\n",
    "for WORD_DIR in TARGET_DIRS:\n",
    "    extracted_data = []\n",
    "    docx_files = glob.glob(os.path.join(WORD_DIR, \"*.docx\"))\n",
    "    print(f\"[{os.path.basename(WORD_DIR)}] 워드 파일 개수: {len(docx_files)}개\")\n",
    "\n",
    "    for file in tqdm(docx_files, desc=f\"{os.path.basename(WORD_DIR)} 워드파일 처리\"):\n",
    "        filename = os.path.basename(file)\n",
    "        # ~$(임시파일)은 스킵!\n",
    "        if filename.startswith('~$'):\n",
    "            continue\n",
    "        try:\n",
    "            doc = Document(file)\n",
    "            all_paragraphs = [p.text.strip() for p in doc.paragraphs if p.text.strip()]\n",
    "            for para in all_paragraphs:\n",
    "                sents = kss.split_sentences(para)\n",
    "                for sent in sents:\n",
    "                    if any(kw in sent for kw in CD_KEYWORDS):\n",
    "                        extracted_data.append([filename, sent.strip()])\n",
    "        except Exception as e:\n",
    "            print(f\"{filename} 처리 중 에러 발생: {e}\")\n",
    "            continue\n",
    "\n",
    "    # 데이터프레임 저장\n",
    "    df = pd.DataFrame(extracted_data, columns=[\"파일명\", \"문장\"])\n",
    "    csv_path = os.path.join(WORD_DIR, \"다나와자동차2_리뷰정리.csv\")\n",
    "    xlsx_path = os.path.join(WORD_DIR, \"다나와자동차2_리뷰정리.xlsx\")\n",
    "    df.to_csv(csv_path, index=False, encoding=\"utf-8-sig\")\n",
    "    df.to_excel(xlsx_path, index=False)\n",
    "    print(f\"[{os.path.basename(WORD_DIR)}] CSV/엑셀 저장 완료:\\n{csv_path}\\n{xlsx_path}\")"
   ]
  },
  {
   "cell_type": "code",
   "execution_count": 14,
   "id": "5c0b4042",
   "metadata": {},
   "outputs": [
    {
     "name": "stdout",
     "output_type": "stream",
     "text": [
      "[르노 코리아] 워드 파일 개수: 6개\n"
     ]
    },
    {
     "name": "stderr",
     "output_type": "stream",
     "text": [
      "르노 코리아 워드파일 처리: 100%|██████████████████| 6/6 [00:01<00:00,  3.80it/s]"
     ]
    },
    {
     "name": "stdout",
     "output_type": "stream",
     "text": [
      "[르노 코리아] CSV/엑셀 저장 완료:\n",
      "/Users/minjoong/Desktop/전공종합설계및논문/감성분석 워드 파일/김원웅/리뷰 모음 회사별/르노 코리아/르노코리아_오너평가_문장모음.csv\n",
      "/Users/minjoong/Desktop/전공종합설계및논문/감성분석 워드 파일/김원웅/리뷰 모음 회사별/르노 코리아/르노코리아_오너평가_문장모음.xlsx\n"
     ]
    },
    {
     "name": "stderr",
     "output_type": "stream",
     "text": [
      "\n"
     ]
    }
   ],
   "source": [
    "import os\n",
    "import glob\n",
    "from docx import Document\n",
    "import kss\n",
    "import pandas as pd\n",
    "from tqdm import tqdm\n",
    "\n",
    "# 키워드 설정\n",
    "CD_KEYWORDS = ['클러스터', '디스플레이', '계기판']\n",
    "\n",
    "# 분석 폴더 리스트\n",
    "TARGET_DIRS = [\n",
    "    \"/Users/minjoong/Desktop/전공종합설계및논문/감성분석 워드 파일/김원웅/리뷰 모음 회사별/르노 코리아\"\n",
    "]\n",
    "\n",
    "for WORD_DIR in TARGET_DIRS:\n",
    "    extracted_data = []\n",
    "    docx_files = glob.glob(os.path.join(WORD_DIR, \"*.docx\"))\n",
    "    print(f\"[{os.path.basename(WORD_DIR)}] 워드 파일 개수: {len(docx_files)}개\")\n",
    "\n",
    "    for file in tqdm(docx_files, desc=f\"{os.path.basename(WORD_DIR)} 워드파일 처리\"):\n",
    "        filename = os.path.basename(file)\n",
    "        # ~$(임시파일)은 스킵!\n",
    "        if filename.startswith('~$'):\n",
    "            continue\n",
    "        try:\n",
    "            doc = Document(file)\n",
    "            all_paragraphs = [p.text.strip() for p in doc.paragraphs if p.text.strip()]\n",
    "            for para in all_paragraphs:\n",
    "                sents = kss.split_sentences(para)\n",
    "                for sent in sents:\n",
    "                    if any(kw in sent for kw in CD_KEYWORDS):\n",
    "                        extracted_data.append([filename, sent.strip()])\n",
    "        except Exception as e:\n",
    "            print(f\"{filename} 처리 중 에러 발생: {e}\")\n",
    "            continue\n",
    "\n",
    "    # --- 중복 제거 부분 추가!\n",
    "    df = pd.DataFrame(extracted_data, columns=[\"파일명\", \"문장\"])\n",
    "    df = df.drop_duplicates(subset=[\"문장\"], keep=\"first\").reset_index(drop=True)\n",
    "\n",
    "    csv_path = os.path.join(WORD_DIR, \"르노코리아_오너평가_문장모음.csv\")\n",
    "    xlsx_path = os.path.join(WORD_DIR, \"르노코리아_오너평가_문장모음.xlsx\")\n",
    "    df.to_csv(csv_path, index=False, encoding=\"utf-8-sig\")\n",
    "    df.to_excel(xlsx_path, index=False)\n",
    "    print(f\"[{os.path.basename(WORD_DIR)}] CSV/엑셀 저장 완료:\\n{csv_path}\\n{xlsx_path}\")"
   ]
  },
  {
   "cell_type": "code",
   "execution_count": 18,
   "id": "84b2a465",
   "metadata": {},
   "outputs": [
    {
     "name": "stdout",
     "output_type": "stream",
     "text": [
      "워드 파일로 저장 완료: /Users/minjoong/Desktop/labeling.docx\n"
     ]
    }
   ],
   "source": [
    "import pandas as pd\n",
    "from docx import Document\n",
    "\n",
    "# 엑셀 파일 읽기\n",
    "excel_path = '/Users/minjoong/Desktop/전공종합설계및논문/감성분석 워드 파일/Danawa2/클러스터_디스플레이_계기판_문장추출_다나와2.xlsx'   # 업로드한 파일 경로를 사용하세요\n",
    "df = pd.read_excel(excel_path)\n",
    "\n",
    "# \"문장\" 컬럼만 추출\n",
    "sentences = df['문장'].dropna().tolist()\n",
    "\n",
    "# 워드 파일 생성\n",
    "doc = Document()\n",
    "for sentence in sentences:\n",
    "    doc.add_paragraph(sentence)\n",
    "\n",
    "# 저장\n",
    "output_path = '/Users/minjoong/Desktop/labeling.docx'\n",
    "doc.save(output_path)\n",
    "\n",
    "print(f'워드 파일로 저장 완료: {output_path}')"
   ]
  },
  {
   "cell_type": "code",
   "execution_count": 3,
   "id": "b3a122b5",
   "metadata": {
    "scrolled": true
   },
   "outputs": [
    {
     "name": "stdout",
     "output_type": "stream",
     "text": [
      "파일 목록: ['/Users/minjoong/Desktop/모든 리뷰/클러스터_디스플레이_계기판_문장추출_쉐보레_오너평가.xlsx', '/Users/minjoong/Desktop/모든 리뷰/클리앙_문장정리.xlsx', '/Users/minjoong/Desktop/모든 리뷰/클러스터_디스플레이_계기판_문장추출_다나와2.xlsx', '/Users/minjoong/Desktop/모든 리뷰/클러스터_디스플레이_계기판_문장추출_bmw_오너평가.xlsx', '/Users/minjoong/Desktop/모든 리뷰/유튜브_리뷰문장.xlsx', '/Users/minjoong/Desktop/모든 리뷰/다나와자동차2_리뷰정리.xlsx', '/Users/minjoong/Desktop/모든 리뷰/르노코리아_오너평가_문장모음.xlsx', '/Users/minjoong/Desktop/모든 리뷰/클러스터_디스플레이_계기판_문장추출_현대_오너평가.xlsx', '/Users/minjoong/Desktop/모든 리뷰/클러스터_디스플레이_계기판_문장추출_테슬라_오너평가.xlsx', '/Users/minjoong/Desktop/모든 리뷰/클러스터_디스플레이_계기판_문장추출_다나와.xlsx', '/Users/minjoong/Desktop/모든 리뷰/클러스터_디스플레이_계기판_문장추출_기아_오너평가.xlsx', '/Users/minjoong/Desktop/모든 리뷰/클러스터_디스플레이_계기판_문장추출_아우디_오너평가.xlsx', '/Users/minjoong/Desktop/모든 리뷰/클러스터_디스플레이_계기판_문장추출_벤츠_오너평가.xlsx']\n",
      "로딩 완료: /Users/minjoong/Desktop/모든 리뷰/클러스터_디스플레이_계기판_문장추출_쉐보레_오너평가.xlsx  (shape: (6, 3))\n",
      "로딩 완료: /Users/minjoong/Desktop/모든 리뷰/클리앙_문장정리.xlsx  (shape: (36, 2))\n",
      "로딩 완료: /Users/minjoong/Desktop/모든 리뷰/클러스터_디스플레이_계기판_문장추출_다나와2.xlsx  (shape: (750, 2))\n",
      "로딩 완료: /Users/minjoong/Desktop/모든 리뷰/클러스터_디스플레이_계기판_문장추출_bmw_오너평가.xlsx  (shape: (20, 3))\n",
      "로딩 완료: /Users/minjoong/Desktop/모든 리뷰/유튜브_리뷰문장.xlsx  (shape: (215, 2))\n",
      "로딩 완료: /Users/minjoong/Desktop/모든 리뷰/다나와자동차2_리뷰정리.xlsx  (shape: (529, 2))\n",
      "로딩 완료: /Users/minjoong/Desktop/모든 리뷰/르노코리아_오너평가_문장모음.xlsx  (shape: (4, 2))\n",
      "로딩 완료: /Users/minjoong/Desktop/모든 리뷰/클러스터_디스플레이_계기판_문장추출_현대_오너평가.xlsx  (shape: (24, 3))\n",
      "로딩 완료: /Users/minjoong/Desktop/모든 리뷰/클러스터_디스플레이_계기판_문장추출_테슬라_오너평가.xlsx  (shape: (2, 3))\n",
      "로딩 완료: /Users/minjoong/Desktop/모든 리뷰/클러스터_디스플레이_계기판_문장추출_다나와.xlsx  (shape: (313, 2))\n",
      "로딩 완료: /Users/minjoong/Desktop/모든 리뷰/클러스터_디스플레이_계기판_문장추출_기아_오너평가.xlsx  (shape: (9, 3))\n",
      "로딩 완료: /Users/minjoong/Desktop/모든 리뷰/클러스터_디스플레이_계기판_문장추출_아우디_오너평가.xlsx  (shape: (12, 3))\n",
      "로딩 완료: /Users/minjoong/Desktop/모든 리뷰/클러스터_디스플레이_계기판_문장추출_벤츠_오너평가.xlsx  (shape: (9, 3))\n",
      "전체 합쳐진 shape: (1929, 4)\n",
      "모든 xlsx가 합쳐져 /Users/minjoong/Desktop/모든 리뷰/reviews.csv로 저장되었습니다.\n"
     ]
    }
   ],
   "source": [
    "import os\n",
    "import glob\n",
    "import pandas as pd\n",
    "\n",
    "# 폴더 경로 지정\n",
    "folder_path = \"/Users/minjoong/Desktop/모든 리뷰\"\n",
    "\n",
    "# 해당 폴더 내 모든 xlsx 파일 리스트업\n",
    "xlsx_files = glob.glob(os.path.join(folder_path, \"*.xlsx\"))\n",
    "print(\"파일 목록:\", xlsx_files)\n",
    "\n",
    "# 모든 파일을 DataFrame으로 읽어 리스트에 저장\n",
    "df_list = []\n",
    "for file in xlsx_files:\n",
    "    try:\n",
    "        df = pd.read_excel(file)\n",
    "        df_list.append(df)\n",
    "        print(f\"로딩 완료: {file}  (shape: {df.shape})\")\n",
    "    except Exception as e:\n",
    "        print(f\"오류 발생: {file}, {e}\")\n",
    "\n",
    "# DataFrame 합치기\n",
    "if df_list:\n",
    "    all_reviews = pd.concat(df_list, ignore_index=True)\n",
    "    print(\"전체 합쳐진 shape:\", all_reviews.shape)\n",
    "\n",
    "    # CSV로 저장\n",
    "    save_path = os.path.join(folder_path, \"reviews.csv\")\n",
    "    all_reviews.to_csv(save_path, index=False, encoding=\"utf-8-sig\")\n",
    "    print(f\"모든 xlsx가 합쳐져 {save_path}로 저장되었습니다.\")\n",
    "else:\n",
    "    print(\"합칠 파일이 없습니다.\")"
   ]
  },
  {
   "cell_type": "markdown",
   "id": "30072b3b",
   "metadata": {},
   "source": [
    "속성키워드들을 풀어서 이진변수로 나타내는 코드"
   ]
  },
  {
   "cell_type": "code",
   "execution_count": 1,
   "id": "d7790c8e",
   "metadata": {},
   "outputs": [
    {
     "name": "stdout",
     "output_type": "stream",
     "text": [
      "변환 완료! :: /Users/minjoong/Desktop/Sentiment_Analysis_Expanded2.xlsx\n"
     ]
    }
   ],
   "source": [
    "import pandas as pd\n",
    "from sklearn.preprocessing import MultiLabelBinarizer\n",
    "\n",
    "# 1. 엑셀 파일 읽기\n",
    "file_path = \"/Users/minjoong/Downloads/최종_엑셀파일.xlsx\"\n",
    "df = pd.read_excel(file_path)\n",
    "\n",
    "# 2. 속성키워드를 리스트로 변환 (콤마로 여러개가 있는 경우)\n",
    "df['속성키워드'] = df['속성키워드'].fillna(\"\").apply(lambda x: [i.strip() for i in str(x).split(',') if i.strip()])\n",
    "\n",
    "# 3. One-hot 인코딩\n",
    "mlb = MultiLabelBinarizer()\n",
    "attr_matrix = mlb.fit_transform(df['속성키워드'])\n",
    "attr_df = pd.DataFrame(attr_matrix, columns=mlb.classes_)\n",
    "\n",
    "# 4. 기존 데이터에 속성키워드별 칼럼 추가(파일명/문장/감정/감성점수/속성키워드/신뢰도 + 각각의 속성)\n",
    "result = pd.concat([df.drop('속성키워드', axis=1), attr_df], axis=1)\n",
    "\n",
    "# 5. 저장\n",
    "save_path = \"/Users/minjoong/Desktop/Sentiment_Analysis_Expanded2.xlsx\"\n",
    "result.to_excel(save_path, index=False)\n",
    "print(f\"변환 완료! :: {save_path}\")"
   ]
  },
  {
   "cell_type": "code",
   "execution_count": null,
   "id": "a76b2173",
   "metadata": {},
   "outputs": [],
   "source": []
  }
 ],
 "metadata": {
  "kernelspec": {
   "display_name": "Python 3 (ipykernel)",
   "language": "python",
   "name": "python3"
  },
  "language_info": {
   "codemirror_mode": {
    "name": "ipython",
    "version": 3
   },
   "file_extension": ".py",
   "mimetype": "text/x-python",
   "name": "python",
   "nbconvert_exporter": "python",
   "pygments_lexer": "ipython3",
   "version": "3.9.13"
  }
 },
 "nbformat": 4,
 "nbformat_minor": 5
}
